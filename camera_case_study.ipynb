{
 "cells": [
  {
   "cell_type": "markdown",
   "metadata": {},
   "source": [
    "<center> <b>Geospatial Fellows Program</b> </center>\n",
    "\n",
    "\n",
    "# High Accuracy Regions to Facilitate Road Traffic Metric Estimation from Camera Feeds: A Case in Central Ohio \n",
    "<i>Ningchuan Xiao, Yue Lin</i>"
   ]
  },
  {
   "cell_type": "markdown",
   "metadata": {},
   "source": [
    "This Jupyter notebook demostrates the methods to promote the estimation of road traffic metrics using camera feeds. The proposed methods are applied to the traffic camera data collected in Central Ohio for accurate traffic density estimation."
   ]
  },
  {
   "cell_type": "markdown",
   "metadata": {},
   "source": [
    "## Notebook Outline\n",
    "- [Problem Statement](#problem)"
   ]
  },
  {
   "cell_type": "markdown",
   "metadata": {},
   "source": [
    "<a id='problem'></a>\n",
    "## Problem Statement\n",
    "The growing number of real-time camera feeds in urban areas have made it possible to provide high-quality traffic data for effective transportation management and control. However, making reliable traffic estimation has been a challenge due to the limitations of current vehicle detection techniques, as well as the various camera conditions such as height and resolution.\n",
    "\n",
    "**The purpose of this paper is to develop a robust method that promotes the accuracy of traffic estimates derived from camera feeds**. A quadtree-based image segmentation algorithm is developed to extract the image regions where high vehicle detection accuracy can be achieved for each camera. These regions are also referred to as the high-accuracy identification regions (HAIR) in this paper. We further illustrate how proper use of the HAIR can help to improve the accuracy of traffic density estimates using the images from traffic cameras at different heights and resolutions in Central Ohio."
   ]
  },
  {
   "cell_type": "markdown",
   "metadata": {},
   "source": []
  }
 ],
 "metadata": {
  "kernelspec": {
   "display_name": "Python 3",
   "language": "python",
   "name": "python3"
  },
  "language_info": {
   "codemirror_mode": {
    "name": "ipython",
    "version": 3
   },
   "file_extension": ".py",
   "mimetype": "text/x-python",
   "name": "python",
   "nbconvert_exporter": "python",
   "pygments_lexer": "ipython3",
   "version": "3.7.6"
  }
 },
 "nbformat": 4,
 "nbformat_minor": 4
}
