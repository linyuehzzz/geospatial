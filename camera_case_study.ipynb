{
 "cells": [
  {
   "cell_type": "markdown",
   "metadata": {},
   "source": [
    "<center> <b>Geospatial Fellows Program</b> </center>\n",
    "\n",
    "\n",
    "# Identifying High Accuracy Regions in Traffic Camera Images to Enhance the Estimation of Road Traffic Metrics: A Quadtree-based Method and Applications \n",
    "<i>Ningchuan Xiao, Yue Lin</i>"
   ]
  },
  {
   "cell_type": "markdown",
   "metadata": {},
   "source": [
    "This Jupyter notebook demostrates a quadtree-based algorithm to establish image regions with high vehicle detection accuracy to promote the estimation of road traffic metrics using camera feeds. The proposed methods are applied to the traffic camera data collected in Central Ohio for accurate traffic density estimation."
   ]
  },
  {
   "cell_type": "markdown",
   "metadata": {},
   "source": [
    "## Notebook Outline\n",
    "- [Introduction](#intro)\n",
    "- [References](#ref)"
   ]
  },
  {
   "cell_type": "markdown",
   "metadata": {},
   "source": [
    "<a id='intro'></a>\n",
    "## Introduction\n",
    "The growing number of real-time camera feeds in urban areas have made it possible to provide high-quality traffic data for effective transportation management and control. However, making reliable traffic estimation has been a challenge due to the limitations of current vehicle detection techniques, as well as the various camera conditions such as height and resolution.\n",
    "\n",
    "The figure below shows two examples of using a state-of-the-art deep learning detector, EfficientDet [<sup>1</sup>](#fn1), to identify the vehicles in traffic images. Rectangles with blue outlines are the ground truth bounding boxes of missed vehicles, and those with green outlines are the bounding boxes of vehicles predicted by the model.\n",
    "![Fig1](./figs/missed.png)\n",
    "\n",
    "\n",
    "**The purpose of this paper is to develop a robust method that promotes the accuracy of traffic estimates derived from camera feeds**. A quadtree-based image segmentation algorithm is developed to extract the image regions where high vehicle detection accuracy can be achieved for each camera. These regions are also referred to as the high-accuracy identification regions (HAIR) in this paper. We further illustrate how proper use of the HAIR can help to improve the accuracy of traffic density estimates using the images from traffic cameras at different heights and resolutions in Central Ohio."
   ]
  },
  {
   "source": [
    "<a id='intro'></a>\n",
    "## Introduction"
   ],
   "cell_type": "markdown",
   "metadata": {}
  },
  {
   "cell_type": "markdown",
   "metadata": {},
   "source": [
    "<a id='ref'></a>\n",
    "## References\n",
    "<span id=\"fn1\"> Tan, M., Pang, R., & Le, Q. V. (2020). Efficientdet: Scalable and efficient object detection. In Proceedings of the IEEE/CVF conference on computer vision and pattern recognition (pp. 10781-10790). </span>"
   ]
  },
  {
   "cell_type": "markdown",
   "metadata": {},
   "source": []
  }
 ],
 "metadata": {
  "kernelspec": {
   "display_name": "Python 3",
   "language": "python",
   "name": "python3"
  },
  "language_info": {
   "codemirror_mode": {
    "name": "ipython",
    "version": 3
   },
   "file_extension": ".py",
   "mimetype": "text/x-python",
   "name": "python",
   "nbconvert_exporter": "python",
   "pygments_lexer": "ipython3",
   "version": "3.7.6"
  }
 },
 "nbformat": 4,
 "nbformat_minor": 4
}